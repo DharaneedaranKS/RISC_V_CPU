{
  "nbformat": 4,
  "nbformat_minor": 0,
  "metadata": {
    "colab": {
      "provenance": []
    },
    "kernelspec": {
      "name": "python3",
      "display_name": "Python 3"
    },
    "language_info": {
      "name": "python"
    }
  },
  "cells": [
    {
      "cell_type": "code",
      "execution_count": null,
      "metadata": {
        "id": "WTyoXBFeUMjP"
      },
      "outputs": [],
      "source": [
        "## libraries\n",
        "import math\n",
        "import numpy as np"
      ]
    },
    {
      "cell_type": "code",
      "source": [
        "## Function to convert decimal to binary.\n",
        "# INPUTS\n",
        "# 1. Decimal Number 2. Number of bits\n",
        "# OUTPUTS\n",
        "# 1. binary number"
      ],
      "metadata": {
        "colab": {
          "base_uri": "https://localhost:8080/",
          "height": 35
        },
        "id": "S8m4IuwHUio7",
        "outputId": "0354ad20-12e2-4ca0-82a5-e1874578b106"
      },
      "execution_count": null,
      "outputs": [
        {
          "output_type": "execute_result",
          "data": {
            "text/plain": [
              "' INPUTS \\n\\n\\n'"
            ],
            "application/vnd.google.colaboratory.intrinsic+json": {
              "type": "string"
            }
          },
          "metadata": {},
          "execution_count": 4
        }
      ]
    },
    {
      "cell_type": "code",
      "source": [
        "## A function to accept all the assembly code\n",
        "# SPlit the one line of instructions into 2 parts, namely the funtion, rest of it\n",
        "# Can be the main function"
      ],
      "metadata": {
        "id": "w1NwBhnIUvnT"
      },
      "execution_count": null,
      "outputs": []
    },
    {
      "cell_type": "code",
      "source": [
        "# Function to identify the appropriate Instruction Type and assign appropriate opcode value"
      ],
      "metadata": {
        "id": "0TMc_4rAVfdI"
      },
      "execution_count": null,
      "outputs": []
    },
    {
      "cell_type": "code",
      "source": [
        " #Write assembly to binary conversion for each instruction type seperately"
      ],
      "metadata": {
        "id": "qls54HVWWdhu"
      },
      "execution_count": null,
      "outputs": []
    },
    {
      "cell_type": "code",
      "source": [
        "def assemble_riscv(instruction):\n",
        "    opcode_map = {\n",
        "        'ADD': '0110011',\n",
        "        'SUB': '0110011',\n",
        "        'AND': '0110011',\n",
        "        'OR': '0110011',\n",
        "        'XOR': '0110011',\n",
        "        'SLL': '0110011',\n",
        "        'SRL': '0110011',\n",
        "        'SRA': '0110011',\n",
        "        'SLT': '0110011',\n",
        "        'SLTU': '0110011',\n",
        "        'ADDI': '0010011',\n",
        "        'ANDI': '0010011',\n",
        "        'ORI': '0010011',\n",
        "        'XORI': '0010011',\n",
        "        'SLLI': '0010011',\n",
        "        'SRLI': '0010011',\n",
        "        'SRAI': '0010011',\n",
        "        'SLTI': '0010011',\n",
        "        'SLTIU': '0010011',\n",
        "        'LW': '0000011',\n",
        "        'SW': '0100011',\n",
        "        'BEQ': '1100011',\n",
        "        'BNE': '1100011',\n",
        "        'BLT': '1100011',\n",
        "        'BGE': '1100011',\n",
        "        'BLTU': '1100011',\n",
        "        'BGEU': '1100011',\n",
        "        'JAL': '1101111',\n",
        "        'JALR': '1100111',\n",
        "        'LUI': '0110111',\n",
        "        'AUIPC': '0010111'\n",
        "    }\n",
        "\n",
        "    parts = instruction.split()\n",
        "    opcode = opcode_map.get(parts[0])\n",
        "    if opcode is None:\n",
        "        return \"Unknown instruction\"\n",
        "\n",
        "    if parts[0] in ['ADD', 'SUB', 'AND', 'OR', 'XOR', 'SLL', 'SRL', 'SRA', 'SLT', 'SLTU']:\n",
        "        funct3_map = {'ADD': '000', 'SUB': '000', 'AND': '111', 'OR': '110', 'XOR': '100',\n",
        "                      'SLL': '001', 'SRL': '101', 'SRA': '101', 'SLT': '010', 'SLTU': '011'}\n",
        "        rd = bin(int(parts[1].strip('x,'), 16))[2:].zfill(5)\n",
        "        rs1 = bin(int(parts[2].strip('x,'), 16))[2:].zfill(5)\n",
        "        rs2 = bin(int(parts[3].strip('x,'), 16))[2:].zfill(5)\n",
        "        funct3 = funct3_map[parts[0]]\n",
        "        funct7_map = {'ADD': '0000000', 'SUB': '0100000', 'AND': '0000000', 'OR': '0000000',\n",
        "                      'XOR': '0000000', 'SLL': '0000000', 'SRL': '0000000', 'SRA': '0100000',\n",
        "                      'SLT': '0000000', 'SLTU': '0000000'}\n",
        "        funct7 = funct7_map.get(parts[0])\n",
        "        if funct7 is None:\n",
        "            return \"Unknown instruction\"\n",
        "        return funct7 + rs2 + rs1 + funct3 + rd + opcode\n",
        "    # Handling other types of instructions\n",
        "    elif parts[0] in ['ADDI', 'ANDI', 'ORI', 'XORI', 'SLLI', 'SRLI', 'SRAI', 'SLTI', 'SLTIU']:\n",
        "        # Handling immediate instructions\n",
        "        funct3_map = {'ADDI': '000', 'ANDI': '111', 'ORI': '110', 'XORI': '100',\n",
        "                      'SLLI': '001', 'SRLI': '101', 'SRAI': '101', 'SLTI': '010', 'SLTIU': '011'}\n",
        "        imm = bin(int(parts[3]))[2:].zfill(12)\n",
        "        rd = bin(int(parts[1].strip('x,'), 16))[2:].zfill(5)\n",
        "        rs1 = bin(int(parts[2].strip('x,'), 16))[2:].zfill(5)\n",
        "        funct3 = funct3_map[parts[0]]\n",
        "        return imm + rs1 + funct3 + rd + opcode\n",
        "    elif parts[0] in ['LW', 'SW']:\n",
        "        # Handling load and store instructions\n",
        "        imm = bin(int(parts[2].split('(')[0]))[2:].zfill(12)\n",
        "        rs1 = bin(int(parts[2].split('(')[1].strip('x,'), 16))[2:].zfill(5)\n",
        "        rd = bin(int(parts[1].strip('x,'), 16))[2:].zfill(5)\n",
        "        funct3_map = {'LW': '010', 'SW': '010'}\n",
        "        return imm + rs1 + funct3_map[parts[0]] + rd + opcode\n",
        "    elif parts[0] in ['BEQ', 'BNE', 'BLT', 'BGE', 'BLTU', 'BGEU']:\n",
        "        # Handling branch instructions\n",
        "        imm = bin(int(parts[3]) // 4)[2:].zfill(12)\n",
        "        rs1 = bin(int(parts[1].strip('x,'), 16))[2:].zfill(5)\n",
        "        rs2 = bin(int(parts[2].strip('x,'), 16))[2:].zfill(5)\n",
        "        funct3_map = {'BEQ': '000', 'BNE': '001', 'BLT': '100', 'BGE': '101', 'BLTU': '110', 'BGEU': '111'}\n",
        "        return imm[0] + imm[2:] + rs2 + rs1 + funct3_map[parts[0]] + imm[1] + opcode\n",
        "    elif parts[0] in ['JAL', 'JALR']:\n",
        "        # Handling jump instructions\n",
        "        rd = bin(int(parts[1].strip('x,'), 16))[2:].zfill(5)\n",
        "        if parts[0] == 'JAL':\n",
        "            imm = bin(int(parts[2]))[2:].zfill(20)\n",
        "        else:\n",
        "            imm = bin(int(parts[2]))[2:].zfill(12)\n",
        "        return imm[0] + imm[10:] + imm[9] + imm[1:9] + rs1 + '000' + rd + opcode\n",
        "    elif parts[0] in ['LUI', 'AUIPC']:\n",
        "        # Handling LUI and AUIPC instructions\n",
        "        imm = bin(int(parts[2]))[2:].zfill(20)\n",
        "        rd = bin(int(parts[1].strip('x,'), 16))[2:].zfill(5)\n",
        "        return imm + rd + opcode\n",
        "    else:\n",
        "        return \"Unknown instruction\""
      ],
      "metadata": {
        "id": "8H6Q9Mkjx42J"
      },
      "execution_count": null,
      "outputs": []
    },
    {
      "cell_type": "code",
      "source": [
        "assembly_instruction = \"OR x1, x2, x3\"\n",
        "\n",
        "# Call the function with the input\n",
        "binary_output = assemble_riscv(assembly_instruction)\n",
        "\n",
        "# Print the output\n",
        "print(\"Binary Output:\", binary_output)"
      ],
      "metadata": {
        "colab": {
          "base_uri": "https://localhost:8080/"
        },
        "id": "S7ghLMUfeOdQ",
        "outputId": "2247b442-ae07-4ca9-ebfd-8125a11e4995"
      },
      "execution_count": null,
      "outputs": [
        {
          "output_type": "stream",
          "name": "stdout",
          "text": [
            "Binary Output: 00000000001100010110000010110011\n"
          ]
        }
      ]
    },
    {
      "cell_type": "code",
      "source": [],
      "metadata": {
        "id": "QCe51M2GebcC"
      },
      "execution_count": null,
      "outputs": []
    }
  ]
}